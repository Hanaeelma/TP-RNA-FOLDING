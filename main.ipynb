{
 "cells": [
  {
   "attachments": {},
   "cell_type": "markdown",
   "metadata": {},
   "source": [
    "# TP RNA\n",
    "For a given ribonucleotide chain, the RNA folding problem consists in finding the native fold\n",
    "among the astronomically large number of possible conformations. The native fold being the\n",
    "one with the lowest Gibbs free energy, the objective function should be an estimator of this\n",
    "energy.\n"
   ]
  },
  {
   "cell_type": "code",
   "execution_count": null,
   "metadata": {},
   "outputs": [],
   "source": [
    "# install packages\n",
    "! pip install -r requirements.txt"
   ]
  },
  {
   "attachments": {},
   "cell_type": "markdown",
   "metadata": {},
   "source": [
    "### Part 1\n",
    "Train the objective function, using interatomic distance distributions that are computed from a dataset of known (i.e., experimentally determined) 3D structures"
   ]
  },
  {
   "cell_type": "code",
   "execution_count": 2,
   "metadata": {},
   "outputs": [
    {
     "name": "stdout",
     "output_type": "stream",
     "text": [
      "Defaulting to user installation because normal site-packages is not writeable\n",
      "Collecting pandas\n",
      "  Downloading pandas-2.0.2-cp310-cp310-manylinux_2_17_x86_64.manylinux2014_x86_64.whl (12.3 MB)\n",
      "\u001b[2K     \u001b[90m━━━━━━━━━━━━━━━━━━━━━━━━━━━━━━━━━━━━━━━━\u001b[0m \u001b[32m12.3/12.3 MB\u001b[0m \u001b[31m6.4 MB/s\u001b[0m eta \u001b[36m0:00:00\u001b[0m00:01\u001b[0m00:01\u001b[0m\n",
      "\u001b[?25hCollecting pytz>=2020.1\n",
      "  Downloading pytz-2023.3-py2.py3-none-any.whl (502 kB)\n",
      "\u001b[2K     \u001b[90m━━━━━━━━━━━━━━━━━━━━━━━━━━━━━━━━━━━━━━━\u001b[0m \u001b[32m502.3/502.3 kB\u001b[0m \u001b[31m2.9 MB/s\u001b[0m eta \u001b[36m0:00:00\u001b[0m00:01\u001b[0m00:01\u001b[0m\n",
      "\u001b[?25hCollecting tzdata>=2022.1\n",
      "  Downloading tzdata-2023.3-py2.py3-none-any.whl (341 kB)\n",
      "\u001b[2K     \u001b[90m━━━━━━━━━━━━━━━━━━━━━━━━━━━━━━━━━━━━━━━\u001b[0m \u001b[32m341.8/341.8 kB\u001b[0m \u001b[31m3.2 MB/s\u001b[0m eta \u001b[36m0:00:00\u001b[0m00:01\u001b[0m00:01\u001b[0m\n",
      "\u001b[?25hRequirement already satisfied: numpy>=1.21.0 in /home/mounim/.local/lib/python3.10/site-packages (from pandas) (1.21.6)\n",
      "Requirement already satisfied: python-dateutil>=2.8.2 in /home/mounim/.local/lib/python3.10/site-packages (from pandas) (2.8.2)\n",
      "Requirement already satisfied: six>=1.5 in /usr/lib/python3/dist-packages (from python-dateutil>=2.8.2->pandas) (1.16.0)\n",
      "Installing collected packages: pytz, tzdata, pandas\n",
      "Successfully installed pandas-2.0.2 pytz-2023.3 tzdata-2023.3\n"
     ]
    }
   ],
   "source": [
    "! pip install pandas"
   ]
  },
  {
   "cell_type": "code",
   "execution_count": 3,
   "metadata": {},
   "outputs": [
    {
     "name": "stdout",
     "output_type": "stream",
     "text": [
      "src file loaded !\n"
     ]
    }
   ],
   "source": [
    "# load packages\n",
    "import numpy as np\n",
    "import argparse\n",
    "import math\n",
    "import pandas as pd\n",
    "import importlib\n",
    "# import py file with common functions\n",
    "import part1 as part1\n",
    "part1.load()"
   ]
  },
  {
   "cell_type": "code",
   "execution_count": 4,
   "metadata": {},
   "outputs": [],
   "source": [
    "importlib.reload(part1)\n",
    "atoms = part1.read_pdb_file('./data/pdb/4gxy.pdb')\n",
    "distances = part1.calculate_ca_distances(atoms)\n"
   ]
  },
  {
   "cell_type": "code",
   "execution_count": 6,
   "metadata": {},
   "outputs": [
    {
     "data": {
      "text/plain": [
       "(         A-A       A-U       A-C       A-G       U-U       U-G       U-C  \\\n",
       " 0   0.168750  0.000000  0.000000  0.000000  0.125000  0.000000  0.000000   \n",
       " 1        NaN       NaN       NaN       NaN       NaN       NaN       NaN   \n",
       " 2        NaN       NaN       NaN       NaN       NaN       NaN       NaN   \n",
       " 3        NaN       NaN       NaN       NaN       NaN       NaN       NaN   \n",
       " 4   0.000000  0.250000  0.000000  0.250000  0.000000  0.000000  0.000000   \n",
       " 5   0.066667  0.013333  0.066667  0.086667  0.013333  0.106667  0.066667   \n",
       " 6   0.091954  0.022989  0.068966  0.195402  0.022989  0.068966  0.045977   \n",
       " 7   0.000000  0.133333  0.133333  0.466667  0.000000  0.000000  0.200000   \n",
       " 8   0.095238  0.285714  0.095238  0.190476  0.000000  0.095238  0.047619   \n",
       " 9   0.000000  0.162162  0.162162  0.216216  0.000000  0.108108  0.027027   \n",
       " 10  0.058252  0.077670  0.038835  0.135922  0.058252  0.048544  0.077670   \n",
       " 11  0.033473  0.033473  0.079498  0.121339  0.033473  0.092050  0.066946   \n",
       " 12  0.079545  0.045455  0.073864  0.176136  0.011364  0.051136  0.039773   \n",
       " 13  0.084656  0.068783  0.058201  0.116402  0.021164  0.084656  0.037037   \n",
       " 14  0.037267  0.062112  0.074534  0.105590  0.037267  0.111801  0.037267   \n",
       " 15  0.048611  0.034722  0.083333  0.093750  0.013889  0.093750  0.069444   \n",
       " 16  0.047138  0.043771  0.060606  0.111111  0.006734  0.077441  0.050505   \n",
       " 17  0.045627  0.038023  0.110266  0.114068  0.030418  0.079848  0.049430   \n",
       " 18  0.074830  0.030612  0.068027  0.129252  0.013605  0.088435  0.064626   \n",
       " 19  0.040816  0.028571  0.097959  0.114286  0.016327  0.138776  0.036735   \n",
       " 20       NaN       NaN       NaN       NaN       NaN       NaN       NaN   \n",
       " \n",
       "          C-C       C-G       G-G  \n",
       " 0   0.293750  0.000000  0.412500  \n",
       " 1        NaN       NaN       NaN  \n",
       " 2        NaN       NaN       NaN  \n",
       " 3        NaN       NaN       NaN  \n",
       " 4   0.500000  0.000000  0.000000  \n",
       " 5   0.186667  0.166667  0.226667  \n",
       " 6   0.091954  0.091954  0.298851  \n",
       " 7   0.000000  0.066667  0.000000  \n",
       " 8   0.000000  0.095238  0.095238  \n",
       " 9   0.108108  0.108108  0.108108  \n",
       " 10  0.058252  0.174757  0.271845  \n",
       " 11  0.108787  0.188285  0.242678  \n",
       " 12  0.113636  0.170455  0.238636  \n",
       " 13  0.031746  0.296296  0.201058  \n",
       " 14  0.086957  0.223602  0.223602  \n",
       " 15  0.111111  0.187500  0.263889  \n",
       " 16  0.148148  0.178451  0.276094  \n",
       " 17  0.167300  0.167300  0.197719  \n",
       " 18  0.129252  0.163265  0.238095  \n",
       " 19  0.138776  0.151020  0.236735  \n",
       " 20       NaN       NaN       NaN  ,\n",
       "          A-A       A-U    A-C       A-G       U-U       U-G       U-C  \\\n",
       " 0   0.159763  0.000000  0.000  0.000000  0.277778  0.000000  0.000000   \n",
       " 1   0.000000  0.000000  0.000  0.000000  0.000000  0.000000  0.000000   \n",
       " 2   0.000000  0.000000  0.000  0.000000  0.000000  0.000000  0.000000   \n",
       " 3   0.000000  0.000000  0.000  0.000000  0.000000  0.000000  0.000000   \n",
       " 4   0.000000  0.008696  0.000  0.003135  0.000000  0.000000  0.000000   \n",
       " 5   0.059172  0.017391  0.050  0.040752  0.027778  0.069869  0.071942   \n",
       " 6   0.047337  0.017391  0.030  0.053292  0.027778  0.026201  0.028777   \n",
       " 7   0.000000  0.017391  0.010  0.021944  0.000000  0.000000  0.021583   \n",
       " 8   0.011834  0.052174  0.010  0.012539  0.000000  0.008734  0.007194   \n",
       " 9   0.000000  0.052174  0.030  0.025078  0.000000  0.017467  0.007194   \n",
       " 10  0.035503  0.069565  0.020  0.043887  0.083333  0.021834  0.057554   \n",
       " 11  0.047337  0.069565  0.095  0.090909  0.111111  0.096070  0.115108   \n",
       " 12  0.082840  0.069565  0.065  0.097179  0.027778  0.039301  0.050360   \n",
       " 13  0.094675  0.113043  0.055  0.068966  0.055556  0.069869  0.050360   \n",
       " 14  0.035503  0.086957  0.060  0.053292  0.083333  0.078603  0.043165   \n",
       " 15  0.082840  0.086957  0.120  0.084639  0.055556  0.117904  0.143885   \n",
       " 16  0.082840  0.113043  0.090  0.103448  0.027778  0.100437  0.107914   \n",
       " 17  0.071006  0.086957  0.145  0.094044  0.111111  0.091703  0.093525   \n",
       " 18  0.130178  0.078261  0.100  0.119122  0.055556  0.113537  0.136691   \n",
       " 19  0.059172  0.060870  0.120  0.087774  0.055556  0.148472  0.064748   \n",
       " 20  0.000000  0.000000  0.000  0.000000  0.000000  0.000000  0.000000   \n",
       " \n",
       "          C-C       C-G       G-G  \n",
       " 0   0.133144  0.000000  0.098214  \n",
       " 1   0.000000  0.000000  0.000000  \n",
       " 2   0.000000  0.000000  0.000000  \n",
       " 3   0.000000  0.000000  0.000000  \n",
       " 4   0.005666  0.000000  0.000000  \n",
       " 5   0.079320  0.054230  0.050595  \n",
       " 6   0.022663  0.017354  0.038690  \n",
       " 7   0.000000  0.002169  0.000000  \n",
       " 8   0.000000  0.004338  0.002976  \n",
       " 9   0.011331  0.008677  0.005952  \n",
       " 10  0.016997  0.039046  0.041667  \n",
       " 11  0.073654  0.097614  0.086310  \n",
       " 12  0.056657  0.065076  0.062500  \n",
       " 13  0.016997  0.121475  0.056548  \n",
       " 14  0.039660  0.078091  0.053571  \n",
       " 15  0.090652  0.117137  0.113095  \n",
       " 16  0.124646  0.114967  0.122024  \n",
       " 17  0.124646  0.095445  0.077381  \n",
       " 18  0.107649  0.104121  0.104167  \n",
       " 19  0.096317  0.080260  0.086310  \n",
       " 20  0.000000  0.000000  0.000000  ,\n",
       "           A-A        A-U        A-C        A-G        U-U        U-G  \\\n",
       " 0   -0.023767  10.000000  10.000000  10.000000   0.346787  10.000000   \n",
       " 1   10.000000  10.000000  10.000000  10.000000  10.000000  10.000000   \n",
       " 2   10.000000  10.000000  10.000000  10.000000  10.000000  10.000000   \n",
       " 3   10.000000  10.000000  10.000000  10.000000  10.000000  10.000000   \n",
       " 4   10.000000  -1.458638  10.000000  -1.901731  10.000000  10.000000   \n",
       " 5   -0.051795   0.115393  -0.124939  -0.327699   0.318759  -0.183744   \n",
       " 6   -0.288367  -0.121179  -0.361511  -0.564271   0.082187  -0.420316   \n",
       " 7   10.000000  -0.884607  -1.124939  -1.327699  10.000000  10.000000   \n",
       " 8   -0.905667  -0.738479  -0.978811  -1.181571  10.000000  -1.037616   \n",
       " 9   10.000000  -0.492496  -0.732828  -0.935589  10.000000  -0.791634   \n",
       " 10  -0.215049  -0.047861  -0.288193  -0.490953   0.155505  -0.346998   \n",
       " 11   0.150511   0.317700   0.077368  -0.125393   0.521065   0.018562   \n",
       " 12   0.017626   0.184815  -0.055517  -0.258278   0.388180  -0.114323   \n",
       " 13   0.048575   0.215764  -0.024568  -0.227329   0.419129  -0.083374   \n",
       " 14  -0.021061   0.146128  -0.094204  -0.296965   0.349493  -0.153010   \n",
       " 15   0.231506   0.398695   0.158362  -0.044398   0.602060   0.099557   \n",
       " 16   0.244870   0.412059   0.171726  -0.031034   0.615424   0.112921   \n",
       " 17   0.192069   0.359258   0.118926  -0.083835   0.562623   0.060120   \n",
       " 18   0.240461   0.407649   0.167317  -0.035443   0.611015   0.108512   \n",
       " 19   0.161279   0.328468   0.088136  -0.114625   0.531834   0.029331   \n",
       " 20  10.000000  10.000000  10.000000  10.000000  10.000000  10.000000   \n",
       " \n",
       "           U-C        C-C        C-G        G-G  \n",
       " 0   10.000000  -0.343655  10.000000  -0.623249  \n",
       " 1   10.000000  10.000000  10.000000  10.000000  \n",
       " 2   10.000000  10.000000  10.000000  10.000000  \n",
       " 3   10.000000  10.000000  10.000000  10.000000  \n",
       " 4   10.000000  -1.945715  10.000000  10.000000  \n",
       " 5    0.033076  -0.371683  -0.487610  -0.651278  \n",
       " 6   -0.203496  -0.608255  -0.724182  -0.887850  \n",
       " 7   -0.966924  10.000000  -1.487610  10.000000  \n",
       " 8   -0.820796  10.000000  -1.341482  -1.505150  \n",
       " 9   -0.574813  -0.979573  -1.095499  -1.259168  \n",
       " 10  -0.130178  -0.534937  -0.650864  -0.814532  \n",
       " 11   0.235383  -0.169377  -0.285303  -0.448971  \n",
       " 12   0.102498  -0.302262  -0.418188  -0.581857  \n",
       " 13   0.133447  -0.271313  -0.387239  -0.550907  \n",
       " 14   0.063811  -0.340949  -0.456875  -0.620543  \n",
       " 15   0.316378  -0.088382  -0.204308  -0.367977  \n",
       " 16   0.329742  -0.075018  -0.190944  -0.354613  \n",
       " 17   0.276941  -0.127819  -0.243745  -0.407414  \n",
       " 18   0.325333  -0.079427  -0.195354  -0.359022  \n",
       " 19   0.246151  -0.158609  -0.274535  -0.438203  \n",
       " 20  10.000000  10.000000  10.000000  10.000000  )"
      ]
     },
     "execution_count": 6,
     "metadata": {},
     "output_type": "execute_result"
    }
   ],
   "source": [
    "importlib.reload(part1)\n",
    "reference_frequencies = part1.calculate_frequencies(distances)\n",
    "reference_frequencies"
   ]
  },
  {
   "attachments": {},
   "cell_type": "markdown",
   "metadata": {},
   "source": [
    "# Part 2"
   ]
  },
  {
   "cell_type": "code",
   "execution_count": 8,
   "metadata": {},
   "outputs": [
    {
     "name": "stdout",
     "output_type": "stream",
     "text": [
      "Defaulting to user installation because normal site-packages is not writeable\n",
      "Collecting seaborn\n",
      "  Downloading seaborn-0.12.2-py3-none-any.whl (293 kB)\n",
      "\u001b[2K     \u001b[90m━━━━━━━━━━━━━━━━━━━━━━━━━━━━━━━━━━━━━━━\u001b[0m \u001b[32m293.3/293.3 kB\u001b[0m \u001b[31m1.0 MB/s\u001b[0m eta \u001b[36m0:00:00\u001b[0m00:01\u001b[0m00:01\u001b[0m\n",
      "\u001b[?25hRequirement already satisfied: pandas>=0.25 in /home/mounim/.local/lib/python3.10/site-packages (from seaborn) (2.0.2)\n",
      "Requirement already satisfied: numpy!=1.24.0,>=1.17 in /home/mounim/.local/lib/python3.10/site-packages (from seaborn) (1.21.6)\n",
      "Requirement already satisfied: matplotlib!=3.6.1,>=3.1 in /home/mounim/.local/lib/python3.10/site-packages (from seaborn) (3.5.3)\n",
      "Requirement already satisfied: cycler>=0.10 in /home/mounim/.local/lib/python3.10/site-packages (from matplotlib!=3.6.1,>=3.1->seaborn) (0.11.0)\n",
      "Requirement already satisfied: packaging>=20.0 in /home/mounim/.local/lib/python3.10/site-packages (from matplotlib!=3.6.1,>=3.1->seaborn) (21.3)\n",
      "Requirement already satisfied: fonttools>=4.22.0 in /home/mounim/.local/lib/python3.10/site-packages (from matplotlib!=3.6.1,>=3.1->seaborn) (4.38.0)\n",
      "Requirement already satisfied: pillow>=6.2.0 in /home/mounim/.local/lib/python3.10/site-packages (from matplotlib!=3.6.1,>=3.1->seaborn) (9.3.0)\n",
      "Requirement already satisfied: kiwisolver>=1.0.1 in /home/mounim/.local/lib/python3.10/site-packages (from matplotlib!=3.6.1,>=3.1->seaborn) (1.4.4)\n",
      "Requirement already satisfied: pyparsing>=2.2.1 in /home/mounim/.local/lib/python3.10/site-packages (from matplotlib!=3.6.1,>=3.1->seaborn) (3.0.9)\n",
      "Requirement already satisfied: python-dateutil>=2.7 in /home/mounim/.local/lib/python3.10/site-packages (from matplotlib!=3.6.1,>=3.1->seaborn) (2.8.2)\n",
      "Requirement already satisfied: tzdata>=2022.1 in /home/mounim/.local/lib/python3.10/site-packages (from pandas>=0.25->seaborn) (2023.3)\n",
      "Requirement already satisfied: pytz>=2020.1 in /home/mounim/.local/lib/python3.10/site-packages (from pandas>=0.25->seaborn) (2023.3)\n",
      "Requirement already satisfied: six>=1.5 in /usr/lib/python3/dist-packages (from python-dateutil>=2.7->matplotlib!=3.6.1,>=3.1->seaborn) (1.16.0)\n",
      "Installing collected packages: seaborn\n",
      "Successfully installed seaborn-0.12.2\n"
     ]
    }
   ],
   "source": [
    "# ! pip install seaborn"
   ]
  },
  {
   "cell_type": "code",
   "execution_count": 9,
   "metadata": {},
   "outputs": [],
   "source": [
    "import part2 as part2\n",
    "score_path = './data/scores/'\n",
    "output_path = './data/figs/'\n"
   ]
  },
  {
   "cell_type": "code",
   "execution_count": null,
   "metadata": {},
   "outputs": [],
   "source": [
    "part2.plot_distributions(score_path, output_path)"
   ]
  },
  {
   "attachments": {},
   "cell_type": "markdown",
   "metadata": {},
   "source": [
    "# Part 3"
   ]
  },
  {
   "cell_type": "code",
   "execution_count": 11,
   "metadata": {},
   "outputs": [],
   "source": [
    "import part3 as part3\n",
    "import part1 as part1"
   ]
  },
  {
   "cell_type": "code",
   "execution_count": 12,
   "metadata": {},
   "outputs": [
    {
     "name": "stdout",
     "output_type": "stream",
     "text": [
      "============================== \n",
      "Estimated Gibbs Free Energy: 25388.97307537536 \n",
      " ==============================\n"
     ]
    }
   ],
   "source": [
    "pdb_file = './data/pdb/4gxy.pdb'\n",
    "atoms = part1.read_pdb_file(pdb_file)\n",
    "distances = part1.calculate_ca_distances(atoms)\n",
    "gibbs_energy = part3.calculate_gibbs_free_energy(distances)\n",
    "print(\"===\"*10,\"\\nEstimated Gibbs Free Energy:\", gibbs_energy,'\\n',\"===\"*10)"
   ]
  }
 ],
 "metadata": {
  "kernelspec": {
   "display_name": "Python 3",
   "language": "python",
   "name": "python3"
  },
  "language_info": {
   "codemirror_mode": {
    "name": "ipython",
    "version": 3
   },
   "file_extension": ".py",
   "mimetype": "text/x-python",
   "name": "python",
   "nbconvert_exporter": "python",
   "pygments_lexer": "ipython3",
   "version": "3.10.7"
  },
  "orig_nbformat": 4,
  "vscode": {
   "interpreter": {
    "hash": "916dbcbb3f70747c44a77c7bcd40155683ae19c65e1c03b4aa3499c5328201f1"
   }
  }
 },
 "nbformat": 4,
 "nbformat_minor": 2
}
